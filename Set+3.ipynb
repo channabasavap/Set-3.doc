{
 "cells": [
  {
   "cell_type": "markdown",
   "id": "6e68c9fe",
   "metadata": {},
   "source": [
    "# Topics: Confidence Intervals"
   ]
  },
  {
   "cell_type": "markdown",
   "id": "27ac2c4c",
   "metadata": {},
   "source": [
    "1. For each of the following statements, indicate whether it is True/False. If false, explain why.\n",
    "\n",
    "I. The sample size of the survey should at least be a fixed percentage of the population size in order to produce representative results.\n",
    "\n",
    "II. The sampling frame is a list of every item that appears in a survey sample, including those that did not respond to questions.\n",
    "\n",
    "III. Larger surveys convey a more accurate impression of the population than smaller surveys.\n",
    "\n",
    "Answer\n",
    "\n",
    "I.False.In case of representative results Sample size will be a number and not in percentage.Sample size >= 30 is sufficiently large amount.\n",
    "\n",
    "II.True\n",
    "\n",
    "III.True"
   ]
  },
  {
   "cell_type": "markdown",
   "id": "9f611d55",
   "metadata": {},
   "source": [
    "2. PC Magazine asked all of its readers to participate in a survey of their satisfaction with different brands of electronics. In the 2004 survey, which was included in an issue of the magazine that year, more than 9000 readers rated the products on a scale from 1 to 10. The magazine reported that the average rating assigned by 225 readers to a Kodak compact digital camera was 7.5. For this product, identify the following:\n",
    "\n",
    "A. The population\n",
    "\n",
    "B. The parameter of interest\n",
    "\n",
    "C. The sampling frame\n",
    "\n",
    "D. The sample size\n",
    "\n",
    "E. The sampling design\n",
    "\n",
    "F. Any potential sources of bias or other problems with the survey or sample\n",
    "\n",
    "Answer\n",
    "\n",
    "A. All the readers of PC Magazine\n",
    "\n",
    "B. Average,Raiting Scale,Sample Size\n",
    "\n",
    "C. 9000 all readers responded to that survey\n",
    "\n",
    "D. 225\n",
    "\n",
    "E. Rating given or Response\n"
   ]
  },
  {
   "cell_type": "markdown",
   "id": "9f40a770",
   "metadata": {},
   "source": [
    "F.Here the data selection process not biased but the data cosidered only among the readers of this Magazine and actually we need the data from all people of diiferent electronic gadget users"
   ]
  },
  {
   "cell_type": "markdown",
   "id": "a6542d71",
   "metadata": {},
   "source": [
    "3. For each of the following statements, indicate whether it is True/False. If false, explain why.\n",
    "\n",
    "I. If the 95% confidence interval for the average purchase of customers at a department store is 50 to\n",
    "110, then $100 is a plausible value for the population mean at this level of confidence.\n",
    "\n",
    "II. If the 95% confidence interval for the number of moviegoers who purchase concessions is 30% to 45%, this means that fewer than half of all moviegoers purchase concessions.\n",
    "\n",
    "III. The 95% Confidence-Interval for μ only applies if the sample data are nearly normally distributed.\n",
    "\n",
    "Answer\n",
    "\n",
    "I.True\n",
    "\n",
    "II.False .Given only about 30% to 40% movie goers at CI 95%.So still we are not sure about 100% data less that half of all movie goers.\n",
    "\n",
    "III.False.WE can apply even if data normally distributed too. By CENTRAL LIMIT THEOREM we can convert to normal aproximation of given datas. But 95% CI is valid onli with +-2 STD from Mean.If we ge large data Mean will be forming a normal distribution aproximation."
   ]
  },
  {
   "attachments": {
    "image.png": {
     "image/png": "[encoded data removed]"
    }
   },
   "cell_type": "markdown",
   "id": "aa06c913",
   "metadata": {},
   "source": [
    "4. What are the chances that ![image.png](attachment:image.png)\n",
    "\n",
    "A. ¼\n",
    "\n",
    "B. ½\n",
    "\n",
    "C. ¾\n",
    "\n",
    "D. 1\n",
    "\n",
    "Answer"
   ]
  },
  {
   "cell_type": "markdown",
   "id": "037a75b0",
   "metadata": {},
   "source": [
    "B"
   ]
  },
  {
   "cell_type": "markdown",
   "id": "97aea7c7",
   "metadata": {},
   "source": [
    "5. In January 2005, a company that monitors Internet traffic (WebSideStory) reported that its sampling revealed that the Mozilla Firefox browser launched in 2004 had grabbed a 4.6% share of the market.\n",
    "\n",
    "I. If the sample were based on 2,000 users, could Microsoft conclude that Mozilla has a less than 5% share of the market?\n",
    "\n",
    "II. WebSideStory claims that its sample includes all the daily Internet users. If that’s the case, then can Microsoft conclude that Mozilla has a less than 5% share of the market?\n",
    "\n",
    "Answer\n",
    "\n",
    "I.\n",
    "\n",
    "Here STD not gave so we can find Z transform if np>=5,nq>=5, z=(mean(x)-mu)/(STDpop/sqrt(n)) this can be written for any binomial distribution for the previous conditions as z_value=(mean(x)-mu)/sqrt((p*(1-p))/n)\n",
    "\n",
    "H0=>5%\n",
    "\n",
    "Ha<5%"
   ]
  },
  {
   "cell_type": "code",
   "execution_count": 6,
   "id": "845f6814",
   "metadata": {},
   "outputs": [
    {
     "name": "stdout",
     "output_type": "stream",
     "text": [
      "-0.820782681668124\n",
      "p_value: 0.20588503245107104\n",
      "go with null hypotehesis:Mozilla has 5% or more share\n"
     ]
    }
   ],
   "source": [
    "import numpy as np\n",
    "import scipy.stats as stats\n",
    "p=0.05\n",
    "q=1-p\n",
    "alpha=0.05\n",
    "phat=0.046\n",
    "n=2000\n",
    "#Here we uses one sample z test for proportins\n",
    "z_score=(phat-p)/(np.sqrt(p*q/n))\n",
    "print(z_score)\n",
    "p_value=1-stats.norm.cdf(abs(z_score))#since H0=>5% so we need to do 1-probabiliy of <5%\n",
    "print(\"p_value:\",p_value)\n",
    "if p_value < alpha:\n",
    "    print(\"Reject null hypothesis (H0)\")\n",
    "else:\n",
    "    print(\"go with null hypotehesis:Mozilla has 5% or more share\")\n"
   ]
  },
  {
   "cell_type": "markdown",
   "id": "8a88034d",
   "metadata": {},
   "source": [
    "II.\n",
    "\n",
    "In problem mentioned that 4.6% of share grabbed.And the sample include all daily internet users.So the claim would be correct as per given survey stats"
   ]
  },
  {
   "cell_type": "markdown",
   "id": "6f0c5d1d",
   "metadata": {},
   "source": [
    "6.\n",
    "\n",
    "A book publisher monitors the size of shipments of its textbooks to university bookstores. For a sample of texts used at various schools,the 95% confidence interval for the size of the shipment was 250 ± 45 books.Which, if any, of the following interpretations of this interval are correct?\n",
    "\n",
    "A. All shipments are between 205 and 295 books.\n",
    "\n",
    "B. 95% of shipments are between 205 and 295 books.\n",
    "\n",
    "C. The procedure that produced this interval generates ranges that hold the population mean for 95% of samples.\n",
    "\n",
    "D. If we get another sample, then we can be 95% sure that the mean of this second sample is between 205 and 295.\n",
    "\n",
    "E. We can be 95% confident that the range 160 to 340 holds the population mean.\n",
    "\n",
    "Answer\n",
    "\n",
    "A. False. Beacause only 95% books are belongs to the range of 250+-45.Rest 5% can be out of this range\n",
    "\n",
    "B. True\n",
    "\n",
    "C.True\n",
    "\n",
    "D.True\n",
    "\n",
    "E. False . The mean will lie between +1sigma for CI 97.5%.So the population "
   ]
  },
  {
   "cell_type": "markdown",
   "id": "6bd4c617",
   "metadata": {},
   "source": [
    "mean lie between (+-3*sigma)"
   ]
  },
  {
   "cell_type": "markdown",
   "id": "dc14490c",
   "metadata": {},
   "source": [
    "7.Which is shorter: a 95% z-interval or a 95% t-interval\n",
    "\n",
    "for μ if we know that σ =s?\n",
    "\n",
    "A. The z-interval is shorter\n",
    "\n",
    "B. The t-interval is shorter\n",
    "\n",
    "C. Both are equal\n",
    "\n",
    "D. We cannot say"
   ]
  },
  {
   "cell_type": "markdown",
   "id": "0bae3ea7",
   "metadata": {},
   "source": [
    "# Answer"
   ]
  },
  {
   "cell_type": "code",
   "execution_count": 8,
   "id": "e5a5c71c",
   "metadata": {},
   "outputs": [
    {
     "name": "stdout",
     "output_type": "stream",
     "text": [
      "1.6448536269514722\n",
      "1.8331129326536335\n",
      "1.6991270265334972\n"
     ]
    }
   ],
   "source": [
    "z_value=stats.norm.ppf(0.95)\n",
    "#let df=9 & 29\n",
    "t_value1=stats.t.ppf(0.95,9)\n",
    "t_value2=stats.t.ppf(0.95,29)\n",
    "print(z_value)\n",
    "print(t_value1)\n",
    "print(t_value2)"
   ]
  },
  {
   "cell_type": "markdown",
   "id": "dc75a05f",
   "metadata": {},
   "source": [
    "We cannot say t_value will vary w.r.t Degree of freedom as DF increases t_value reduces\n",
    "\n",
    "Questions 8 and 9 are based on the following: To prepare a report on the economy,\n",
    "\n",
    "analysts need to estimate the percentage of businesses that plan to hire additional\n",
    "\n",
    "employees in the next 60 days."
   ]
  },
  {
   "cell_type": "markdown",
   "id": "187c327b",
   "metadata": {},
   "source": [
    "8. How many randomly selected employers (minimum number) must we contact in order to guarantee a margin of error of no more than 4% (at 95% confidence)?\n",
    "\n",
    "A. 600\n",
    "\n",
    "B. 400\n",
    "\n",
    "C. 550\n",
    "\n",
    "D. 1000"
   ]
  },
  {
   "cell_type": "code",
   "execution_count": 10,
   "id": "3f0607bb",
   "metadata": {},
   "outputs": [
    {
     "data": {
      "text/plain": [
       "600"
      ]
     },
     "execution_count": 10,
     "metadata": {},
     "output_type": "execute_result"
    }
   ],
   "source": [
    "import math as mth\n",
    "phat=0.5\n",
    "q=0.5\n",
    "CI=0.95\n",
    "alpha=1-CI\n",
    "z_value=stats.norm.ppf(alpha/2)\n",
    "z_value\n",
    "n=(((z_value)**2)*0.5*0.5/(0.04)**2)\n",
    "round(n)\n",
    "#Answer A"
   ]
  },
  {
   "cell_type": "markdown",
   "id": "c2b4b930",
   "metadata": {},
   "source": [
    "9. Suppose we want the above margin of error to be based on a 98% confidence level. What sample size (minimum) must we now use?\n",
    "\n",
    "A. 1000\n",
    "\n",
    "B. 757\n",
    "\n",
    "C. 848\n",
    "\n",
    "D. 543"
   ]
  },
  {
   "cell_type": "code",
   "execution_count": 11,
   "id": "54ebbb90",
   "metadata": {},
   "outputs": [
    {
     "data": {
      "text/plain": [
       "846"
      ]
     },
     "execution_count": 11,
     "metadata": {},
     "output_type": "execute_result"
    }
   ],
   "source": [
    "\n",
    "import math as mth\n",
    "phat=0.5\n",
    "q=0.5\n",
    "CI=0.98\n",
    "alpha2=1-CI\n",
    "z_value2=stats.norm.ppf((alpha2)/2)\n",
    "z_value2\n",
    "n=(((z_value2)**2)*0.5*0.5/(0.04)**2)\n",
    "round(n)"
   ]
  },
  {
   "cell_type": "markdown",
   "id": "baeb7424",
   "metadata": {},
   "source": [
    "# answers is c"
   ]
  },
  {
   "cell_type": "code",
   "execution_count": null,
   "id": "80616a6a",
   "metadata": {},
   "outputs": [],
   "source": []
  }
 ],
 "metadata": {
  "kernelspec": {
   "display_name": "Python 3 (ipykernel)",
   "language": "python",
   "name": "python3"
  },
  "language_info": {
   "codemirror_mode": {
    "name": "ipython",
    "version": 3
   },
   "file_extension": ".py",
   "mimetype": "text/x-python",
   "name": "python",
   "nbconvert_exporter": "python",
   "pygments_lexer": "ipython3",
   "version": "3.9.7"
  }
 },
 "nbformat": 4,
 "nbformat_minor": 5
}
